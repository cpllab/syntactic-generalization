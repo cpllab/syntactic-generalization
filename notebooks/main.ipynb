{
 "cells": [
  {
   "cell_type": "code",
   "execution_count": 1,
   "metadata": {},
   "outputs": [],
   "source": [
    "import itertools\n",
    "import json\n",
    "import operator\n",
    "import os\n",
    "from pathlib import Path\n",
    "from pprint import pprint\n",
    "import re\n",
    "\n",
    "import matplotlib.pyplot as plt\n",
    "import numpy as np\n",
    "import pandas as pd\n",
    "import seaborn as sns\n",
    "from scipy import stats\n",
    "%matplotlib inline"
   ]
  },
  {
   "cell_type": "markdown",
   "metadata": {},
   "source": [
    "## Load data and preprocess"
   ]
  },
  {
   "cell_type": "markdown",
   "metadata": {},
   "source": [
    "### Metadata"
   ]
  },
  {
   "cell_type": "code",
   "execution_count": 2,
   "metadata": {},
   "outputs": [],
   "source": [
    "# Map from test suite tag to high-level circuit.\n",
    "circuits = {\n",
    "    \"Licensing\": [\"npi\", \"reflexive\"],\n",
    "    \"Long-Distance Dependencies\": [\"fgd\", \"embed\", \"number\", \"comparison\"],\n",
    "    \"Garden-Path Effects\": [\"gardenpath\", \"npz\", \"mvrr\"],\n",
    "    \"Gross Syntactic State\": [\"subordination\", \"nn\"],\n",
    "    \"Center Embedding\": [\"center\"],\n",
    "    \"Transformations\": [\"cleft\"],\n",
    "}\n",
    "\n",
    "tag_to_circuit = {tag: circuit\n",
    "                  for circuit, tags in circuits.items()\n",
    "                  for tag in tags}"
   ]
  },
  {
   "cell_type": "code",
   "execution_count": 3,
   "metadata": {},
   "outputs": [],
   "source": [
    "# Exclusions\n",
    "exclude_suite_re = re.compile(r\"^fgd-embed[34]|^npz_(ambig)|^gardenpath\")"
   ]
  },
  {
   "cell_type": "markdown",
   "metadata": {},
   "source": [
    "### Load"
   ]
  },
  {
   "cell_type": "code",
   "execution_count": 4,
   "metadata": {},
   "outputs": [],
   "source": [
    "os.chdir(\"..\")\n",
    "ppl_data_path = Path(\"data/raw/perplexity.csv\")\n",
    "test_suite_results_path = Path(\"data/raw/test_suite_results\")"
   ]
  },
  {
   "cell_type": "code",
   "execution_count": 6,
   "metadata": {},
   "outputs": [
    {
     "name": "stdout",
     "output_type": "stream",
     "text": [
      "Dropping 2564 results / 6 suites due to exclusions.\n"
     ]
    },
    {
     "name": "stderr",
     "output_type": "stream",
     "text": [
      "/opt/conda/lib/python3.6/site-packages/ipykernel_launcher.py:12: UserWarning: This pattern has match groups. To actually get the groups, use str.extract.\n",
      "  if sys.path[0] == '':\n"
     ]
    }
   ],
   "source": [
    "perplexity_df = pd.read_csv(ppl_data_path, index_col=[\"model\", \"corpus\", \"seed\"])\n",
    "perplexity_df.index.set_names(\"model_name\", level=0, inplace=True)\n",
    "\n",
    "results_df = pd.concat([pd.read_csv(f) for f in test_suite_results_path.glob(\"*.csv\")])\n",
    "\n",
    "# Split model_id into constituent parts\n",
    "model_ids = results_df.model.str.split(\"_\", expand=True).rename(columns={0: \"model_name\", 1: \"corpus\", 2: \"seed\"})\n",
    "results_df = pd.concat([results_df, model_ids], axis=1).drop(columns=[\"model\"])\n",
    "results_df[\"seed\"] = results_df.seed.fillna(\"0\").astype(int)\n",
    "\n",
    "# Exclude test suites\n",
    "exclude_filter = results_df.suite.str.contains(exclude_suite_re)\n",
    "print(\"Dropping %i results / %i suites due to exclusions.\"\n",
    "      % (exclude_filter.sum(), len(results_df[exclude_filter].suite.unique())))\n",
    "results_df = results_df[~exclude_filter]\n",
    "\n",
    "# Add tags\n",
    "results_df[\"tag\"] = results_df.suite.transform(lambda s: re.split(r\"[-_0-9]\", s)[0])\n",
    "results_df[\"circuit\"] = results_df.tag.map(tag_to_circuit)\n",
    "tags_missing_circuit = set(results_df.tag.unique()) - set(tag_to_circuit.keys())\n",
    "if tags_missing_circuit:\n",
    "    print(\"Tags missing circuit: \", \", \".join(tags_missing_circuit))"
   ]
  },
  {
   "cell_type": "code",
   "execution_count": 7,
   "metadata": {},
   "outputs": [
    {
     "data": {
      "text/html": [
       "<div>\n",
       "<style scoped>\n",
       "    .dataframe tbody tr th:only-of-type {\n",
       "        vertical-align: middle;\n",
       "    }\n",
       "\n",
       "    .dataframe tbody tr th {\n",
       "        vertical-align: top;\n",
       "    }\n",
       "\n",
       "    .dataframe thead th {\n",
       "        text-align: right;\n",
       "    }\n",
       "</style>\n",
       "<table border=\"1\" class=\"dataframe\">\n",
       "  <thead>\n",
       "    <tr style=\"text-align: right;\">\n",
       "      <th></th>\n",
       "      <th>suite</th>\n",
       "      <th>item</th>\n",
       "      <th>correct</th>\n",
       "      <th>model_name</th>\n",
       "      <th>corpus</th>\n",
       "      <th>seed</th>\n",
       "      <th>tag</th>\n",
       "      <th>circuit</th>\n",
       "    </tr>\n",
       "  </thead>\n",
       "  <tbody>\n",
       "    <tr>\n",
       "      <th>0</th>\n",
       "      <td>fgd_subject</td>\n",
       "      <td>0</td>\n",
       "      <td>True</td>\n",
       "      <td>ngram</td>\n",
       "      <td>bllip-lg</td>\n",
       "      <td>0</td>\n",
       "      <td>fgd</td>\n",
       "      <td>Long-Distance Dependencies</td>\n",
       "    </tr>\n",
       "    <tr>\n",
       "      <th>1</th>\n",
       "      <td>fgd_subject</td>\n",
       "      <td>1</td>\n",
       "      <td>False</td>\n",
       "      <td>ngram</td>\n",
       "      <td>bllip-lg</td>\n",
       "      <td>0</td>\n",
       "      <td>fgd</td>\n",
       "      <td>Long-Distance Dependencies</td>\n",
       "    </tr>\n",
       "    <tr>\n",
       "      <th>2</th>\n",
       "      <td>fgd_subject</td>\n",
       "      <td>2</td>\n",
       "      <td>True</td>\n",
       "      <td>ngram</td>\n",
       "      <td>bllip-lg</td>\n",
       "      <td>0</td>\n",
       "      <td>fgd</td>\n",
       "      <td>Long-Distance Dependencies</td>\n",
       "    </tr>\n",
       "    <tr>\n",
       "      <th>3</th>\n",
       "      <td>fgd_subject</td>\n",
       "      <td>3</td>\n",
       "      <td>True</td>\n",
       "      <td>ngram</td>\n",
       "      <td>bllip-lg</td>\n",
       "      <td>0</td>\n",
       "      <td>fgd</td>\n",
       "      <td>Long-Distance Dependencies</td>\n",
       "    </tr>\n",
       "    <tr>\n",
       "      <th>4</th>\n",
       "      <td>fgd_subject</td>\n",
       "      <td>4</td>\n",
       "      <td>True</td>\n",
       "      <td>ngram</td>\n",
       "      <td>bllip-lg</td>\n",
       "      <td>0</td>\n",
       "      <td>fgd</td>\n",
       "      <td>Long-Distance Dependencies</td>\n",
       "    </tr>\n",
       "  </tbody>\n",
       "</table>\n",
       "</div>"
      ],
      "text/plain": [
       "         suite  item  correct model_name    corpus  seed  tag  \\\n",
       "0  fgd_subject     0     True      ngram  bllip-lg     0  fgd   \n",
       "1  fgd_subject     1    False      ngram  bllip-lg     0  fgd   \n",
       "2  fgd_subject     2     True      ngram  bllip-lg     0  fgd   \n",
       "3  fgd_subject     3     True      ngram  bllip-lg     0  fgd   \n",
       "4  fgd_subject     4     True      ngram  bllip-lg     0  fgd   \n",
       "\n",
       "                      circuit  \n",
       "0  Long-Distance Dependencies  \n",
       "1  Long-Distance Dependencies  \n",
       "2  Long-Distance Dependencies  \n",
       "3  Long-Distance Dependencies  \n",
       "4  Long-Distance Dependencies  "
      ]
     },
     "execution_count": 7,
     "metadata": {},
     "output_type": "execute_result"
    }
   ],
   "source": [
    "results_df.head()"
   ]
  },
  {
   "cell_type": "markdown",
   "metadata": {},
   "source": [
    "### Checks"
   ]
  },
  {
   "cell_type": "code",
   "execution_count": 8,
   "metadata": {},
   "outputs": [
    {
     "name": "stdout",
     "output_type": "stream",
     "text": [
      "Missing perplexity results for:\n",
      "{('ngram-no-rand', 'bllip-', 0),\n",
      " ('ngram-no-rand', 'bllip-xs', 0),\n",
      " ('transformer-xl', '', 0)}\n"
     ]
    }
   ],
   "source": [
    "# Each model--corpus--seed should have perplexity data.\n",
    "ids_from_results = results_df.set_index([\"model_name\", \"corpus\", \"seed\"]).sort_index().index\n",
    "ids_from_ppl = perplexity_df.sort_index().index\n",
    "diff = set(ids_from_results) - set(ids_from_ppl)\n",
    "if diff:\n",
    "    print(\"Missing perplexity results for:\")\n",
    "    pprint(diff)\n",
    "    #raise ValueError(\"Each model--corpus--seed must have perplexity data.\")"
   ]
  },
  {
   "cell_type": "code",
   "execution_count": 9,
   "metadata": {},
   "outputs": [
    {
     "name": "stdout",
     "output_type": "stream",
     "text": [
      "set()\n"
     ]
    }
   ],
   "source": [
    "# Every model--corpus--seed should have results for all test suite items.\n",
    "item_list = {model_key: set(results.suite)\n",
    "             for model_key, results in results_df.groupby([\"model_name\", \"corpus\", \"seed\"])}\n",
    "not_shared = set()\n",
    "for k1, k2 in itertools.combinations(item_list.keys(), 2):\n",
    "    l1, l2 = item_list[k1], item_list[k2]\n",
    "    if l1 != l2:\n",
    "        print(\"SyntaxGym test suite results for %s and %s don't match\" % (k1, k2))\n",
    "        print(\"\\tIn %s but not in %s:\\n\\t\\t%s\" % (k2, k1, l2 - l1))\n",
    "        print(\"\\tIn %s but not in %s:\\n\\t\\t%s\" % (k1, k2, l1 - l2))\n",
    "        print()\n",
    "        \n",
    "        not_shared |= l2 - l1\n",
    "        not_shared |= l1 - l2\n",
    "        \n",
    "print(not_shared)\n",
    "\n",
    "if len(not_shared) > 0:\n",
    "    to_drop = results_df[results_df.suite.isin(not_shared)]\n",
    "    print(\"Dropping these test suites (%i rows) for now. Yikes.\" % len(to_drop))\n",
    "    results_df = results_df[~results_df.suite.isin(not_shared)]"
   ]
  },
  {
   "cell_type": "markdown",
   "metadata": {},
   "source": [
    "## Main analyses\n",
    "\n",
    "1. barplot ranking model accuracies\n",
    "2. scatter plot with ppl on x-axis and SG score on y-axis (for a given dataset size -- or maybe all of them together?)\n",
    "3. variance in ppl vs variance in SG score for a single model across seeds and/or sizes\n",
    "\n",
    "Test suite analyses\n",
    "\n",
    "1. within-tag/circuit ppl-SG correlations\n",
    "2. circuit-circuit coordination heatmap\n",
    "3. robustness to stability modification}"
   ]
  },
  {
   "cell_type": "markdown",
   "metadata": {},
   "source": [
    "### Global settings\n",
    "\n",
    "e.g. to maintain consistent hues across model graphs, etc."
   ]
  },
  {
   "cell_type": "code",
   "execution_count": 10,
   "metadata": {},
   "outputs": [],
   "source": [
    "model_order = sorted(set(results_df.model_name))\n",
    "corpus_order = [\"bllip-lg\", \"bllip-md\", \"bllip-sm\", \"bllip-xs\"]\n",
    "circuit_order = sorted([c for c in results_df.circuit.dropna().unique()])"
   ]
  },
  {
   "cell_type": "markdown",
   "metadata": {},
   "source": [
    "### Data prep"
   ]
  },
  {
   "cell_type": "code",
   "execution_count": 11,
   "metadata": {},
   "outputs": [],
   "source": [
    "suites_df = results_df.groupby([\"model_name\", \"corpus\", \"seed\", \"suite\"]).correct.mean().reset_index()\n",
    "suites_df[\"tag\"] = suites_df.suite.transform(lambda s: re.split(r\"[-_0-9]\", s)[0])\n",
    "suites_df[\"circuit\"] = suites_df.tag.map(tag_to_circuit)"
   ]
  },
  {
   "cell_type": "code",
   "execution_count": 12,
   "metadata": {},
   "outputs": [
    {
     "data": {
      "text/html": [
       "<div>\n",
       "<style scoped>\n",
       "    .dataframe tbody tr th:only-of-type {\n",
       "        vertical-align: middle;\n",
       "    }\n",
       "\n",
       "    .dataframe tbody tr th {\n",
       "        vertical-align: top;\n",
       "    }\n",
       "\n",
       "    .dataframe thead th {\n",
       "        text-align: right;\n",
       "    }\n",
       "</style>\n",
       "<table border=\"1\" class=\"dataframe\">\n",
       "  <thead>\n",
       "    <tr style=\"text-align: right;\">\n",
       "      <th></th>\n",
       "      <th>model_name</th>\n",
       "      <th>corpus</th>\n",
       "      <th>seed</th>\n",
       "      <th>correct</th>\n",
       "      <th>pid</th>\n",
       "      <th>test_loss</th>\n",
       "      <th>test_ppl</th>\n",
       "    </tr>\n",
       "  </thead>\n",
       "  <tbody>\n",
       "    <tr>\n",
       "      <th>0</th>\n",
       "      <td>ngram</td>\n",
       "      <td>bllip-lg</td>\n",
       "      <td>0</td>\n",
       "      <td>0.378650</td>\n",
       "      <td>NaN</td>\n",
       "      <td>NaN</td>\n",
       "      <td>106.0919</td>\n",
       "    </tr>\n",
       "    <tr>\n",
       "      <th>1</th>\n",
       "      <td>ngram</td>\n",
       "      <td>bllip-md</td>\n",
       "      <td>0</td>\n",
       "      <td>0.375331</td>\n",
       "      <td>NaN</td>\n",
       "      <td>NaN</td>\n",
       "      <td>125.5826</td>\n",
       "    </tr>\n",
       "    <tr>\n",
       "      <th>2</th>\n",
       "      <td>ngram</td>\n",
       "      <td>bllip-sm</td>\n",
       "      <td>0</td>\n",
       "      <td>0.330714</td>\n",
       "      <td>NaN</td>\n",
       "      <td>NaN</td>\n",
       "      <td>158.5957</td>\n",
       "    </tr>\n",
       "    <tr>\n",
       "      <th>3</th>\n",
       "      <td>ngram</td>\n",
       "      <td>bllip-xs</td>\n",
       "      <td>0</td>\n",
       "      <td>0.385804</td>\n",
       "      <td>NaN</td>\n",
       "      <td>NaN</td>\n",
       "      <td>240.2087</td>\n",
       "    </tr>\n",
       "    <tr>\n",
       "      <th>4</th>\n",
       "      <td>ngram-no-rand</td>\n",
       "      <td>bllip-</td>\n",
       "      <td>0</td>\n",
       "      <td>0.103977</td>\n",
       "      <td>NaN</td>\n",
       "      <td>NaN</td>\n",
       "      <td>NaN</td>\n",
       "    </tr>\n",
       "  </tbody>\n",
       "</table>\n",
       "</div>"
      ],
      "text/plain": [
       "      model_name    corpus  seed   correct  pid  test_loss  test_ppl\n",
       "0          ngram  bllip-lg     0  0.378650  NaN        NaN  106.0919\n",
       "1          ngram  bllip-md     0  0.375331  NaN        NaN  125.5826\n",
       "2          ngram  bllip-sm     0  0.330714  NaN        NaN  158.5957\n",
       "3          ngram  bllip-xs     0  0.385804  NaN        NaN  240.2087\n",
       "4  ngram-no-rand    bllip-     0  0.103977  NaN        NaN       NaN"
      ]
     },
     "execution_count": 12,
     "metadata": {},
     "output_type": "execute_result"
    }
   ],
   "source": [
    "# Join PPL and accuracy data.\n",
    "joined_data = suites_df.groupby([\"model_name\", \"corpus\", \"seed\"]).correct.agg(\"mean\")\n",
    "joined_data = pd.DataFrame(joined_data).join(perplexity_df).reset_index()\n",
    "joined_data.head()"
   ]
  },
  {
   "cell_type": "code",
   "execution_count": 13,
   "metadata": {},
   "outputs": [
    {
     "data": {
      "text/html": [
       "<div>\n",
       "<style scoped>\n",
       "    .dataframe tbody tr th:only-of-type {\n",
       "        vertical-align: middle;\n",
       "    }\n",
       "\n",
       "    .dataframe tbody tr th {\n",
       "        vertical-align: top;\n",
       "    }\n",
       "\n",
       "    .dataframe thead th {\n",
       "        text-align: right;\n",
       "    }\n",
       "</style>\n",
       "<table border=\"1\" class=\"dataframe\">\n",
       "  <thead>\n",
       "    <tr style=\"text-align: right;\">\n",
       "      <th></th>\n",
       "      <th>model_name</th>\n",
       "      <th>corpus</th>\n",
       "      <th>seed</th>\n",
       "      <th>circuit</th>\n",
       "      <th>correct</th>\n",
       "      <th>pid</th>\n",
       "      <th>test_loss</th>\n",
       "      <th>test_ppl</th>\n",
       "    </tr>\n",
       "  </thead>\n",
       "  <tbody>\n",
       "    <tr>\n",
       "      <th>0</th>\n",
       "      <td>ngram</td>\n",
       "      <td>bllip-lg</td>\n",
       "      <td>0</td>\n",
       "      <td>Center Embedding</td>\n",
       "      <td>0.500000</td>\n",
       "      <td>NaN</td>\n",
       "      <td>NaN</td>\n",
       "      <td>106.0919</td>\n",
       "    </tr>\n",
       "    <tr>\n",
       "      <th>1</th>\n",
       "      <td>ngram</td>\n",
       "      <td>bllip-lg</td>\n",
       "      <td>0</td>\n",
       "      <td>Garden-Path Effects</td>\n",
       "      <td>0.412202</td>\n",
       "      <td>NaN</td>\n",
       "      <td>NaN</td>\n",
       "      <td>106.0919</td>\n",
       "    </tr>\n",
       "    <tr>\n",
       "      <th>2</th>\n",
       "      <td>ngram</td>\n",
       "      <td>bllip-lg</td>\n",
       "      <td>0</td>\n",
       "      <td>Gross Syntactic State</td>\n",
       "      <td>0.426087</td>\n",
       "      <td>NaN</td>\n",
       "      <td>NaN</td>\n",
       "      <td>106.0919</td>\n",
       "    </tr>\n",
       "    <tr>\n",
       "      <th>3</th>\n",
       "      <td>ngram</td>\n",
       "      <td>bllip-lg</td>\n",
       "      <td>0</td>\n",
       "      <td>Licensing</td>\n",
       "      <td>0.236842</td>\n",
       "      <td>NaN</td>\n",
       "      <td>NaN</td>\n",
       "      <td>106.0919</td>\n",
       "    </tr>\n",
       "    <tr>\n",
       "      <th>4</th>\n",
       "      <td>ngram</td>\n",
       "      <td>bllip-lg</td>\n",
       "      <td>0</td>\n",
       "      <td>Long-Distance Dependencies</td>\n",
       "      <td>0.390977</td>\n",
       "      <td>NaN</td>\n",
       "      <td>NaN</td>\n",
       "      <td>106.0919</td>\n",
       "    </tr>\n",
       "  </tbody>\n",
       "</table>\n",
       "</div>"
      ],
      "text/plain": [
       "  model_name    corpus  seed                     circuit   correct  pid  \\\n",
       "0      ngram  bllip-lg     0            Center Embedding  0.500000  NaN   \n",
       "1      ngram  bllip-lg     0         Garden-Path Effects  0.412202  NaN   \n",
       "2      ngram  bllip-lg     0       Gross Syntactic State  0.426087  NaN   \n",
       "3      ngram  bllip-lg     0                   Licensing  0.236842  NaN   \n",
       "4      ngram  bllip-lg     0  Long-Distance Dependencies  0.390977  NaN   \n",
       "\n",
       "   test_loss  test_ppl  \n",
       "0        NaN  106.0919  \n",
       "1        NaN  106.0919  \n",
       "2        NaN  106.0919  \n",
       "3        NaN  106.0919  \n",
       "4        NaN  106.0919  "
      ]
     },
     "execution_count": 13,
     "metadata": {},
     "output_type": "execute_result"
    }
   ],
   "source": [
    "# Join PPL and accuracy data, splitting on circuit.\n",
    "joined_data_circuits = suites_df.groupby([\"model_name\", \"corpus\", \"seed\", \"circuit\"]).correct.agg(\"mean\")\n",
    "joined_data_circuits = pd.DataFrame(joined_data_circuits).reset_index().set_index([\"model_name\", \"corpus\", \"seed\"]).join(perplexity_df).reset_index()\n",
    "joined_data_circuits.head()"
   ]
  },
  {
   "cell_type": "code",
   "execution_count": 14,
   "metadata": {},
   "outputs": [
    {
     "data": {
      "text/html": [
       "<div>\n",
       "<style scoped>\n",
       "    .dataframe tbody tr th:only-of-type {\n",
       "        vertical-align: middle;\n",
       "    }\n",
       "\n",
       "    .dataframe tbody tr th {\n",
       "        vertical-align: top;\n",
       "    }\n",
       "\n",
       "    .dataframe thead th {\n",
       "        text-align: right;\n",
       "    }\n",
       "</style>\n",
       "<table border=\"1\" class=\"dataframe\">\n",
       "  <thead>\n",
       "    <tr style=\"text-align: right;\">\n",
       "      <th></th>\n",
       "      <th>suite</th>\n",
       "      <th>item</th>\n",
       "      <th>correct</th>\n",
       "      <th>model_name</th>\n",
       "      <th>corpus</th>\n",
       "      <th>seed</th>\n",
       "      <th>tag</th>\n",
       "      <th>circuit</th>\n",
       "      <th>has_modifier</th>\n",
       "      <th>test_suite_base</th>\n",
       "    </tr>\n",
       "  </thead>\n",
       "  <tbody>\n",
       "    <tr>\n",
       "      <th>24</th>\n",
       "      <td>npz_obj_mod</td>\n",
       "      <td>0</td>\n",
       "      <td>False</td>\n",
       "      <td>ngram</td>\n",
       "      <td>bllip-lg</td>\n",
       "      <td>0</td>\n",
       "      <td>npz</td>\n",
       "      <td>Garden-Path Effects</td>\n",
       "      <td>True</td>\n",
       "      <td>pz_obj</td>\n",
       "    </tr>\n",
       "    <tr>\n",
       "      <th>25</th>\n",
       "      <td>npz_obj_mod</td>\n",
       "      <td>1</td>\n",
       "      <td>False</td>\n",
       "      <td>ngram</td>\n",
       "      <td>bllip-lg</td>\n",
       "      <td>0</td>\n",
       "      <td>npz</td>\n",
       "      <td>Garden-Path Effects</td>\n",
       "      <td>True</td>\n",
       "      <td>pz_obj</td>\n",
       "    </tr>\n",
       "    <tr>\n",
       "      <th>26</th>\n",
       "      <td>npz_obj_mod</td>\n",
       "      <td>2</td>\n",
       "      <td>True</td>\n",
       "      <td>ngram</td>\n",
       "      <td>bllip-lg</td>\n",
       "      <td>0</td>\n",
       "      <td>npz</td>\n",
       "      <td>Garden-Path Effects</td>\n",
       "      <td>True</td>\n",
       "      <td>pz_obj</td>\n",
       "    </tr>\n",
       "    <tr>\n",
       "      <th>27</th>\n",
       "      <td>npz_obj_mod</td>\n",
       "      <td>3</td>\n",
       "      <td>True</td>\n",
       "      <td>ngram</td>\n",
       "      <td>bllip-lg</td>\n",
       "      <td>0</td>\n",
       "      <td>npz</td>\n",
       "      <td>Garden-Path Effects</td>\n",
       "      <td>True</td>\n",
       "      <td>pz_obj</td>\n",
       "    </tr>\n",
       "    <tr>\n",
       "      <th>28</th>\n",
       "      <td>npz_obj_mod</td>\n",
       "      <td>4</td>\n",
       "      <td>False</td>\n",
       "      <td>ngram</td>\n",
       "      <td>bllip-lg</td>\n",
       "      <td>0</td>\n",
       "      <td>npz</td>\n",
       "      <td>Garden-Path Effects</td>\n",
       "      <td>True</td>\n",
       "      <td>pz_obj</td>\n",
       "    </tr>\n",
       "  </tbody>\n",
       "</table>\n",
       "</div>"
      ],
      "text/plain": [
       "          suite  item  correct model_name    corpus  seed  tag  \\\n",
       "24  npz_obj_mod     0    False      ngram  bllip-lg     0  npz   \n",
       "25  npz_obj_mod     1    False      ngram  bllip-lg     0  npz   \n",
       "26  npz_obj_mod     2     True      ngram  bllip-lg     0  npz   \n",
       "27  npz_obj_mod     3     True      ngram  bllip-lg     0  npz   \n",
       "28  npz_obj_mod     4    False      ngram  bllip-lg     0  npz   \n",
       "\n",
       "                circuit has_modifier test_suite_base  \n",
       "24  Garden-Path Effects         True          pz_obj  \n",
       "25  Garden-Path Effects         True          pz_obj  \n",
       "26  Garden-Path Effects         True          pz_obj  \n",
       "27  Garden-Path Effects         True          pz_obj  \n",
       "28  Garden-Path Effects         True          pz_obj  "
      ]
     },
     "execution_count": 14,
     "metadata": {},
     "output_type": "execute_result"
    }
   ],
   "source": [
    "# Analyze stability to modification.\n",
    "def has_modifier(ts):\n",
    "    if ts.endswith((\"_modifier\", \"_mod\")):\n",
    "        return True\n",
    "    else:\n",
    "        return None\n",
    "results_df[\"has_modifier\"] = results_df.suite.transform(has_modifier)\n",
    "\n",
    "# Mark \"non-modifier\" test suites\n",
    "modifier_ts = results_df[results_df.has_modifier == True].suite.unique()\n",
    "no_modifier_ts = [re.sub(r\"_mod(ifier)?$\", \"\", ts) for ts in modifier_ts]\n",
    "results_df.loc[results_df.suite.isin(no_modifier_ts), \"has_modifier\"] = False\n",
    "# Store subset of test suites which have definite modifier/no-modifier marking\n",
    "results_df_mod = results_df[~(results_df.has_modifier.isna())].copy()\n",
    "# Get base test suite (without modifier/no-modifier marking)\n",
    "results_df_mod[\"test_suite_base\"] = results_df_mod.suite.transform(lambda ts: ts.strip(\"_no-modifier\").strip(\"_modifier\"))\n",
    "results_df_mod.head()"
   ]
  },
  {
   "cell_type": "markdown",
   "metadata": {},
   "source": [
    "### `ngram` sanity checks"
   ]
  },
  {
   "cell_type": "code",
   "execution_count": 15,
   "metadata": {},
   "outputs": [
    {
     "name": "stderr",
     "output_type": "stream",
     "text": [
      "/opt/conda/lib/python3.6/site-packages/scipy/stats/stats.py:1713: FutureWarning: Using a non-tuple sequence for multidimensional indexing is deprecated; use `arr[tuple(seq)]` instead of `arr[seq]`. In the future this will be interpreted as an array index, `arr[np.array(seq)]`, which will result either in an error or a different result.\n",
      "  return np.add.reduce(sorted[indexer] * weights, axis=axis) / sumval\n"
     ]
    },
    {
     "data": {
      "text/plain": [
       "Text(0.5,1,'ngram test suite results, averaged across corpus size')"
      ]
     },
     "execution_count": 15,
     "metadata": {},
     "output_type": "execute_result"
    },
    {
     "data": {
      "image/png": "[encoded data removed]",
      "text/plain": [
       "<Figure size 2880x720 with 1 Axes>"
      ]
     },
     "metadata": {
      "needs_background": "light"
     },
     "output_type": "display_data"
    }
   ],
   "source": [
    "plt.subplots(figsize=(40, 10))\n",
    "sns.barplot(data=suites_df[suites_df.model_name == \"ngram\"], x=\"suite\", y=\"correct\")\n",
    "plt.title(\"ngram test suite results, averaged across corpus size\")"
   ]
  },
  {
   "cell_type": "code",
   "execution_count": 24,
   "metadata": {},
   "outputs": [
    {
     "data": {
      "text/plain": [
       "Text(0.5,1,'ngram-no-rand test suite results, averaged across corpus size')"
      ]
     },
     "execution_count": 24,
     "metadata": {},
     "output_type": "execute_result"
    },
    {
     "data": {
      "image/png": "[encoded data removed]",
      "text/plain": [
       "<Figure size 2880x720 with 1 Axes>"
      ]
     },
     "metadata": {
      "needs_background": "light"
     },
     "output_type": "display_data"
    }
   ],
   "source": [
    "plt.subplots(figsize=(40, 10))\n",
    "sns.barplot(data=suites_df[suites_df.model_name == \"ngram-no-rand\"], x=\"suite\", y=\"correct\")\n",
    "plt.title(\"ngram-no-rand test suite results, averaged across corpus size\")"
   ]
  },
  {
   "cell_type": "markdown",
   "metadata": {},
   "source": [
    "### Accuracy across models"
   ]
  },
  {
   "cell_type": "code",
   "execution_count": 16,
   "metadata": {},
   "outputs": [
    {
     "data": {
      "text/plain": [
       "Text(0,0.5,'Accuracy')"
      ]
     },
     "execution_count": 16,
     "metadata": {},
     "output_type": "execute_result"
    },
    {
     "data": {
      "image/png": "[encoded data removed]",
      "text/plain": [
       "<Figure size 432x288 with 1 Axes>"
      ]
     },
     "metadata": {
      "needs_background": "light"
     },
     "output_type": "display_data"
    }
   ],
   "source": [
    "sns.barplot(data=results_df.reset_index(), x=\"model_name\", y=\"correct\")\n",
    "\n",
    "plt.xlabel(\"Model\")\n",
    "plt.ylabel(\"Accuracy\")"
   ]
  },
  {
   "cell_type": "markdown",
   "metadata": {},
   "source": [
    "### Accuracy vs perplexity"
   ]
  },
  {
   "cell_type": "code",
   "execution_count": 17,
   "metadata": {},
   "outputs": [
    {
     "data": {
      "text/plain": [
       "<matplotlib.legend.Legend at 0x2b28bd0e3d68>"
      ]
     },
     "execution_count": 17,
     "metadata": {},
     "output_type": "execute_result"
    },
    {
     "data": {
      "image/png": "[encoded data removed]",
      "text/plain": [
       "<Figure size 720x720 with 1 Axes>"
      ]
     },
     "metadata": {
      "needs_background": "light"
     },
     "output_type": "display_data"
    }
   ],
   "source": [
    "f, ax = plt.subplots(figsize=(10, 10))\n",
    "sns.scatterplot(data=joined_data, x=\"test_ppl\", y=\"correct\",\n",
    "                hue=\"model_name\", style=\"corpus\", s=150,\n",
    "                hue_order=model_order)\n",
    "plt.xlabel(\"Test corpus perplexity\")\n",
    "plt.ylabel(\"SyntaxGym score\")\n",
    "plt.legend(bbox_to_anchor=(1.04,1), loc=\"upper left\")"
   ]
  },
  {
   "cell_type": "code",
   "execution_count": 18,
   "metadata": {},
   "outputs": [
    {
     "data": {
      "text/plain": [
       "(0, 1)"
      ]
     },
     "execution_count": 18,
     "metadata": {},
     "output_type": "execute_result"
    },
    {
     "data": {
      "image/png": "[encoded data removed]",
      "text/plain": [
       "<Figure size 436.75x360 with 1 Axes>"
      ]
     },
     "metadata": {
      "needs_background": "light"
     },
     "output_type": "display_data"
    }
   ],
   "source": [
    "g = sns.lmplot(data=joined_data, x=\"test_ppl\", y=\"correct\",\n",
    "               hue=\"corpus\", truncate=True)\n",
    "g.ax.set_ylim((0, 1))"
   ]
  },
  {
   "cell_type": "code",
   "execution_count": 19,
   "metadata": {},
   "outputs": [
    {
     "data": {
      "text/plain": [
       "(0, 1)"
      ]
     },
     "execution_count": 19,
     "metadata": {},
     "output_type": "execute_result"
    },
    {
     "data": {
      "image/png": "[encoded data removed]",
      "text/plain": [
       "<Figure size 479.5x360 with 1 Axes>"
      ]
     },
     "metadata": {
      "needs_background": "light"
     },
     "output_type": "display_data"
    }
   ],
   "source": [
    "g = sns.lmplot(data=joined_data, x=\"test_ppl\", y=\"correct\",\n",
    "               hue=\"model_name\", truncate=True)\n",
    "g.ax.set_ylim((0, 1))"
   ]
  },
  {
   "cell_type": "code",
   "execution_count": 20,
   "metadata": {},
   "outputs": [
    {
     "data": {
      "text/plain": [
       "<seaborn.axisgrid.FacetGrid at 0x2b28bd2adf98>"
      ]
     },
     "execution_count": 20,
     "metadata": {},
     "output_type": "execute_result"
    },
    {
     "data": {
      "image/png": "[encoded data removed]",
      "text/plain": [
       "<Figure size 2279.5x360 with 6 Axes>"
      ]
     },
     "metadata": {
      "needs_background": "light"
     },
     "output_type": "display_data"
    }
   ],
   "source": [
    "g = sns.FacetGrid(data=joined_data_circuits, col=\"circuit\", height=5)\n",
    "g.map(sns.scatterplot, \"test_ppl\", \"correct\", \"model_name\",\n",
    "      hue_order=model_order)\n",
    "g.add_legend()"
   ]
  },
  {
   "cell_type": "code",
   "execution_count": 21,
   "metadata": {},
   "outputs": [
    {
     "data": {
      "text/plain": [
       "model_name      corpus    circuit                   \n",
       "ngram           bllip-lg  Center Embedding              0.500000\n",
       "                          Garden-Path Effects           0.412202\n",
       "                          Gross Syntactic State         0.426087\n",
       "                          Licensing                     0.236842\n",
       "                          Long-Distance Dependencies    0.390977\n",
       "                          Transformations               0.737500\n",
       "                bllip-md  Center Embedding              0.357143\n",
       "                          Garden-Path Effects           0.474702\n",
       "                          Gross Syntactic State         0.452174\n",
       "                          Licensing                     0.231579\n",
       "                          Long-Distance Dependencies    0.420739\n",
       "                          Transformations               0.562500\n",
       "                bllip-sm  Center Embedding              0.357143\n",
       "                          Garden-Path Effects           0.455357\n",
       "                          Gross Syntactic State         0.426087\n",
       "                          Licensing                     0.207895\n",
       "                          Long-Distance Dependencies    0.360902\n",
       "                          Transformations               0.325000\n",
       "                bllip-xs  Center Embedding              0.321429\n",
       "                          Garden-Path Effects           0.444940\n",
       "                          Gross Syntactic State         0.626087\n",
       "                          Licensing                     0.171053\n",
       "                          Long-Distance Dependencies    0.458647\n",
       "                          Transformations               0.550000\n",
       "ngram-no-rand   bllip-    Center Embedding              0.404762\n",
       "                          Garden-Path Effects           0.005952\n",
       "                          Gross Syntactic State         0.000000\n",
       "                          Licensing                     0.042105\n",
       "                          Long-Distance Dependencies    0.179511\n",
       "                          Transformations               0.304167\n",
       "                                                          ...   \n",
       "transformer-xl            Center Embedding              0.803571\n",
       "                          Garden-Path Effects           0.705357\n",
       "                          Gross Syntactic State         0.913043\n",
       "                          Licensing                     0.384211\n",
       "                          Long-Distance Dependencies    0.280388\n",
       "                          Transformations               0.837500\n",
       "vanilla         bllip-lg  Center Embedding              0.696429\n",
       "                          Garden-Path Effects           0.562500\n",
       "                          Gross Syntactic State         0.669565\n",
       "                          Licensing                     0.123684\n",
       "                          Long-Distance Dependencies    0.379699\n",
       "                          Transformations               0.612500\n",
       "                bllip-md  Center Embedding              0.607143\n",
       "                          Garden-Path Effects           0.587798\n",
       "                          Gross Syntactic State         0.356522\n",
       "                          Licensing                     0.084211\n",
       "                          Long-Distance Dependencies    0.366541\n",
       "                          Transformations               0.700000\n",
       "                bllip-sm  Center Embedding              0.642857\n",
       "                          Garden-Path Effects           0.477679\n",
       "                          Gross Syntactic State         0.269565\n",
       "                          Licensing                     0.186842\n",
       "                          Long-Distance Dependencies    0.426065\n",
       "                          Transformations               0.812500\n",
       "                bllip-xs  Center Embedding              0.738095\n",
       "                          Garden-Path Effects           0.442956\n",
       "                          Gross Syntactic State         0.237681\n",
       "                          Licensing                     0.139474\n",
       "                          Long-Distance Dependencies    0.344507\n",
       "                          Transformations               0.608333\n",
       "Name: correct, Length: 108, dtype: float64"
      ]
     },
     "execution_count": 21,
     "metadata": {},
     "output_type": "execute_result"
    }
   ],
   "source": [
    "joined_data_circuits.groupby([\"model_name\", \"corpus\", \"circuit\"]).correct.mean()"
   ]
  },
  {
   "cell_type": "markdown",
   "metadata": {},
   "source": [
    "### Item-level prediction correlations across models"
   ]
  },
  {
   "cell_type": "code",
   "execution_count": 22,
   "metadata": {},
   "outputs": [
    {
     "ename": "ValueError",
     "evalue": "all the input array dimensions except for the concatenation axis must match exactly",
     "output_type": "error",
     "traceback": [
      "\u001b[0;31m---------------------------------------------------------------------------\u001b[0m",
      "\u001b[0;31mValueError\u001b[0m                                Traceback (most recent call last)",
      "\u001b[0;32m<ipython-input-22-5afd68ce4166>\u001b[0m in \u001b[0;36m<module>\u001b[0;34m\u001b[0m\n\u001b[1;32m      2\u001b[0m \u001b[0mmodel_correlations\u001b[0m \u001b[0;34m=\u001b[0m \u001b[0;34m[\u001b[0m\u001b[0;34m]\u001b[0m\u001b[0;34m\u001b[0m\u001b[0;34m\u001b[0m\u001b[0m\n\u001b[1;32m      3\u001b[0m \u001b[0;32mfor\u001b[0m \u001b[0mk1\u001b[0m\u001b[0;34m,\u001b[0m \u001b[0mk2\u001b[0m \u001b[0;32min\u001b[0m \u001b[0mitertools\u001b[0m\u001b[0;34m.\u001b[0m\u001b[0mcombinations\u001b[0m\u001b[0;34m(\u001b[0m\u001b[0mlist\u001b[0m\u001b[0;34m(\u001b[0m\u001b[0mitem_predictions\u001b[0m\u001b[0;34m.\u001b[0m\u001b[0mindex\u001b[0m\u001b[0;34m)\u001b[0m\u001b[0;34m,\u001b[0m \u001b[0;36m2\u001b[0m\u001b[0;34m)\u001b[0m\u001b[0;34m:\u001b[0m\u001b[0;34m\u001b[0m\u001b[0;34m\u001b[0m\u001b[0m\n\u001b[0;32m----> 4\u001b[0;31m     \u001b[0mmodel_correlations\u001b[0m\u001b[0;34m.\u001b[0m\u001b[0mappend\u001b[0m\u001b[0;34m(\u001b[0m\u001b[0;34m(\u001b[0m\u001b[0;34m\"_\"\u001b[0m\u001b[0;34m.\u001b[0m\u001b[0mjoin\u001b[0m\u001b[0;34m(\u001b[0m\u001b[0mmap\u001b[0m\u001b[0;34m(\u001b[0m\u001b[0mstr\u001b[0m\u001b[0;34m,\u001b[0m \u001b[0mk1\u001b[0m\u001b[0;34m)\u001b[0m\u001b[0;34m)\u001b[0m\u001b[0;34m,\u001b[0m \u001b[0;34m*\u001b[0m\u001b[0mk1\u001b[0m\u001b[0;34m,\u001b[0m \u001b[0;34m\"_\"\u001b[0m\u001b[0;34m.\u001b[0m\u001b[0mjoin\u001b[0m\u001b[0;34m(\u001b[0m\u001b[0mmap\u001b[0m\u001b[0;34m(\u001b[0m\u001b[0mstr\u001b[0m\u001b[0;34m,\u001b[0m \u001b[0mk2\u001b[0m\u001b[0;34m)\u001b[0m\u001b[0;34m)\u001b[0m\u001b[0;34m,\u001b[0m \u001b[0;34m*\u001b[0m\u001b[0mk2\u001b[0m\u001b[0;34m,\u001b[0m \u001b[0mstats\u001b[0m\u001b[0;34m.\u001b[0m\u001b[0mspearmanr\u001b[0m\u001b[0;34m(\u001b[0m\u001b[0mitem_predictions\u001b[0m\u001b[0;34m.\u001b[0m\u001b[0mloc\u001b[0m\u001b[0;34m[\u001b[0m\u001b[0mk1\u001b[0m\u001b[0;34m]\u001b[0m\u001b[0;34m,\u001b[0m \u001b[0mitem_predictions\u001b[0m\u001b[0;34m.\u001b[0m\u001b[0mloc\u001b[0m\u001b[0;34m[\u001b[0m\u001b[0mk2\u001b[0m\u001b[0;34m]\u001b[0m\u001b[0;34m)\u001b[0m\u001b[0;34m[\u001b[0m\u001b[0;36m0\u001b[0m\u001b[0;34m]\u001b[0m\u001b[0;34m)\u001b[0m\u001b[0;34m)\u001b[0m\u001b[0;34m\u001b[0m\u001b[0;34m\u001b[0m\u001b[0m\n\u001b[0m\u001b[1;32m      5\u001b[0m \u001b[0;34m\u001b[0m\u001b[0m\n\u001b[1;32m      6\u001b[0m \u001b[0mcorr_df\u001b[0m \u001b[0;34m=\u001b[0m \u001b[0mpd\u001b[0m\u001b[0;34m.\u001b[0m\u001b[0mDataFrame\u001b[0m\u001b[0;34m(\u001b[0m\u001b[0mmodel_correlations\u001b[0m\u001b[0;34m,\u001b[0m \u001b[0mcolumns\u001b[0m\u001b[0;34m=\u001b[0m\u001b[0;34m[\u001b[0m\u001b[0;34m\"key_1\"\u001b[0m\u001b[0;34m,\u001b[0m \u001b[0;34m\"model_1\"\u001b[0m\u001b[0;34m,\u001b[0m \u001b[0;34m\"corpus_1\"\u001b[0m\u001b[0;34m,\u001b[0m \u001b[0;34m\"seed_1\"\u001b[0m\u001b[0;34m,\u001b[0m \u001b[0;34m\"key_2\"\u001b[0m\u001b[0;34m,\u001b[0m \u001b[0;34m\"model_2\"\u001b[0m\u001b[0;34m,\u001b[0m \u001b[0;34m\"corpus_2\"\u001b[0m\u001b[0;34m,\u001b[0m \u001b[0;34m\"seed_2\"\u001b[0m\u001b[0;34m,\u001b[0m \u001b[0;34m\"corr\"\u001b[0m\u001b[0;34m]\u001b[0m\u001b[0;34m)\u001b[0m\u001b[0;34m\u001b[0m\u001b[0;34m\u001b[0m\u001b[0m\n",
      "\u001b[0;32m/opt/conda/lib/python3.6/site-packages/scipy/stats/stats.py\u001b[0m in \u001b[0;36mspearmanr\u001b[0;34m(a, b, axis, nan_policy)\u001b[0m\n\u001b[1;32m   3315\u001b[0m         \u001b[0mbr\u001b[0m \u001b[0;34m=\u001b[0m \u001b[0mnp\u001b[0m\u001b[0;34m.\u001b[0m\u001b[0mapply_along_axis\u001b[0m\u001b[0;34m(\u001b[0m\u001b[0mrankdata\u001b[0m\u001b[0;34m,\u001b[0m \u001b[0maxisout\u001b[0m\u001b[0;34m,\u001b[0m \u001b[0mb\u001b[0m\u001b[0;34m)\u001b[0m\u001b[0;34m\u001b[0m\u001b[0;34m\u001b[0m\u001b[0m\n\u001b[1;32m   3316\u001b[0m     \u001b[0mn\u001b[0m \u001b[0;34m=\u001b[0m \u001b[0ma\u001b[0m\u001b[0;34m.\u001b[0m\u001b[0mshape\u001b[0m\u001b[0;34m[\u001b[0m\u001b[0maxisout\u001b[0m\u001b[0;34m]\u001b[0m\u001b[0;34m\u001b[0m\u001b[0;34m\u001b[0m\u001b[0m\n\u001b[0;32m-> 3317\u001b[0;31m     \u001b[0mrs\u001b[0m \u001b[0;34m=\u001b[0m \u001b[0mnp\u001b[0m\u001b[0;34m.\u001b[0m\u001b[0mcorrcoef\u001b[0m\u001b[0;34m(\u001b[0m\u001b[0mar\u001b[0m\u001b[0;34m,\u001b[0m \u001b[0mbr\u001b[0m\u001b[0;34m,\u001b[0m \u001b[0mrowvar\u001b[0m\u001b[0;34m=\u001b[0m\u001b[0maxisout\u001b[0m\u001b[0;34m)\u001b[0m\u001b[0;34m\u001b[0m\u001b[0;34m\u001b[0m\u001b[0m\n\u001b[0m\u001b[1;32m   3318\u001b[0m \u001b[0;34m\u001b[0m\u001b[0m\n\u001b[1;32m   3319\u001b[0m     \u001b[0molderr\u001b[0m \u001b[0;34m=\u001b[0m \u001b[0mnp\u001b[0m\u001b[0;34m.\u001b[0m\u001b[0mseterr\u001b[0m\u001b[0;34m(\u001b[0m\u001b[0mdivide\u001b[0m\u001b[0;34m=\u001b[0m\u001b[0;34m'ignore'\u001b[0m\u001b[0;34m)\u001b[0m  \u001b[0;31m# rs can have elements equal to 1\u001b[0m\u001b[0;34m\u001b[0m\u001b[0;34m\u001b[0m\u001b[0m\n",
      "\u001b[0;32m/opt/conda/lib/python3.6/site-packages/numpy/lib/function_base.py\u001b[0m in \u001b[0;36mcorrcoef\u001b[0;34m(x, y, rowvar, bias, ddof)\u001b[0m\n\u001b[1;32m   2520\u001b[0m         warnings.warn('bias and ddof have no effect and are deprecated',\n\u001b[1;32m   2521\u001b[0m                       DeprecationWarning, stacklevel=2)\n\u001b[0;32m-> 2522\u001b[0;31m     \u001b[0mc\u001b[0m \u001b[0;34m=\u001b[0m \u001b[0mcov\u001b[0m\u001b[0;34m(\u001b[0m\u001b[0mx\u001b[0m\u001b[0;34m,\u001b[0m \u001b[0my\u001b[0m\u001b[0;34m,\u001b[0m \u001b[0mrowvar\u001b[0m\u001b[0;34m)\u001b[0m\u001b[0;34m\u001b[0m\u001b[0;34m\u001b[0m\u001b[0m\n\u001b[0m\u001b[1;32m   2523\u001b[0m     \u001b[0;32mtry\u001b[0m\u001b[0;34m:\u001b[0m\u001b[0;34m\u001b[0m\u001b[0;34m\u001b[0m\u001b[0m\n\u001b[1;32m   2524\u001b[0m         \u001b[0md\u001b[0m \u001b[0;34m=\u001b[0m \u001b[0mdiag\u001b[0m\u001b[0;34m(\u001b[0m\u001b[0mc\u001b[0m\u001b[0;34m)\u001b[0m\u001b[0;34m\u001b[0m\u001b[0;34m\u001b[0m\u001b[0m\n",
      "\u001b[0;32m/opt/conda/lib/python3.6/site-packages/numpy/lib/function_base.py\u001b[0m in \u001b[0;36mcov\u001b[0;34m(m, y, rowvar, bias, ddof, fweights, aweights)\u001b[0m\n\u001b[1;32m   2384\u001b[0m         \u001b[0;32mif\u001b[0m \u001b[0;32mnot\u001b[0m \u001b[0mrowvar\u001b[0m \u001b[0;32mand\u001b[0m \u001b[0my\u001b[0m\u001b[0;34m.\u001b[0m\u001b[0mshape\u001b[0m\u001b[0;34m[\u001b[0m\u001b[0;36m0\u001b[0m\u001b[0;34m]\u001b[0m \u001b[0;34m!=\u001b[0m \u001b[0;36m1\u001b[0m\u001b[0;34m:\u001b[0m\u001b[0;34m\u001b[0m\u001b[0;34m\u001b[0m\u001b[0m\n\u001b[1;32m   2385\u001b[0m             \u001b[0my\u001b[0m \u001b[0;34m=\u001b[0m \u001b[0my\u001b[0m\u001b[0;34m.\u001b[0m\u001b[0mT\u001b[0m\u001b[0;34m\u001b[0m\u001b[0;34m\u001b[0m\u001b[0m\n\u001b[0;32m-> 2386\u001b[0;31m         \u001b[0mX\u001b[0m \u001b[0;34m=\u001b[0m \u001b[0mnp\u001b[0m\u001b[0;34m.\u001b[0m\u001b[0mconcatenate\u001b[0m\u001b[0;34m(\u001b[0m\u001b[0;34m(\u001b[0m\u001b[0mX\u001b[0m\u001b[0;34m,\u001b[0m \u001b[0my\u001b[0m\u001b[0;34m)\u001b[0m\u001b[0;34m,\u001b[0m \u001b[0maxis\u001b[0m\u001b[0;34m=\u001b[0m\u001b[0;36m0\u001b[0m\u001b[0;34m)\u001b[0m\u001b[0;34m\u001b[0m\u001b[0;34m\u001b[0m\u001b[0m\n\u001b[0m\u001b[1;32m   2387\u001b[0m \u001b[0;34m\u001b[0m\u001b[0m\n\u001b[1;32m   2388\u001b[0m     \u001b[0;32mif\u001b[0m \u001b[0mddof\u001b[0m \u001b[0;32mis\u001b[0m \u001b[0;32mNone\u001b[0m\u001b[0;34m:\u001b[0m\u001b[0;34m\u001b[0m\u001b[0;34m\u001b[0m\u001b[0m\n",
      "\u001b[0;31mValueError\u001b[0m: all the input array dimensions except for the concatenation axis must match exactly"
     ]
    }
   ],
   "source": [
    "item_predictions = results_df.set_index([\"suite\", \"item\"]).sort_index().groupby([\"model_name\", \"corpus\", \"seed\"]).correct.apply(np.array)\n",
    "model_correlations = []\n",
    "for k1, k2 in itertools.combinations(list(item_predictions.index), 2):\n",
    "    model_correlations.append((\"_\".join(map(str, k1)), *k1, \"_\".join(map(str, k2)), *k2, stats.spearmanr(item_predictions.loc[k1], item_predictions.loc[k2])[0]))\n",
    "\n",
    "corr_df = pd.DataFrame(model_correlations, columns=[\"key_1\", \"model_1\", \"corpus_1\", \"seed_1\", \"key_2\", \"model_2\", \"corpus_2\", \"seed_2\", \"corr\"])"
   ]
  },
  {
   "cell_type": "code",
   "execution_count": null,
   "metadata": {},
   "outputs": [],
   "source": [
    "plt.subplots(figsize=(10, 10))\n",
    "sns.heatmap(data=corr_df.pivot(\"key_1\", \"key_2\", \"corr\"))"
   ]
  },
  {
   "cell_type": "code",
   "execution_count": null,
   "metadata": {},
   "outputs": [],
   "source": [
    "plt.subplots(figsize=(10, 10))\n",
    "sns.distplot(results_df.groupby([\"suite\", \"item\"]).correct.agg(\"mean\"), bins=20)\n",
    "plt.title(\"Distribution of item-level accuracy means\")"
   ]
  },
  {
   "cell_type": "code",
   "execution_count": null,
   "metadata": {},
   "outputs": [],
   "source": [
    "plt.subplots(figsize=(10, 10))\n",
    "sns.distplot(results_df.groupby([\"suite\", \"item\"]).correct.agg(\"std\"), bins=20)\n",
    "plt.title(\"Distribution of item-level accuracy stdevs\")"
   ]
  },
  {
   "cell_type": "code",
   "execution_count": null,
   "metadata": {},
   "outputs": [],
   "source": [
    "plt.subplots(figsize=(10, 10))\n",
    "sns.distplot(suites_df.correct, bins=20)\n",
    "plt.title(\"Distribution of suite-level accuracy means\")"
   ]
  },
  {
   "cell_type": "markdown",
   "metadata": {},
   "source": [
    "### Variance in accuracy vs variance in perplexity"
   ]
  },
  {
   "cell_type": "code",
   "execution_count": null,
   "metadata": {},
   "outputs": [],
   "source": [
    "catplot_ticks = [\"correct\", \"test_ppl\"]\n",
    "catplot_data = joined_data.copy()\n",
    "catplot_data[\"correct\"] *= 100\n",
    "catplot_data = catplot_data.melt(id_vars=set(catplot_data.columns) - set(catplot_ticks))\n",
    "# catplot_data[\"corpus_size\"] = catplot_data.corpus.map(corpus_to_size)\n",
    "\n",
    "g = sns.catplot(data=catplot_data,\n",
    "                x=\"variable\", y=\"value\", hue=\"model_name\")"
   ]
  },
  {
   "cell_type": "markdown",
   "metadata": {},
   "source": [
    "### Circuit–circuit correlations"
   ]
  },
  {
   "cell_type": "code",
   "execution_count": null,
   "metadata": {},
   "outputs": [],
   "source": [
    "f, axs = plt.subplots(len(circuit_order), len(circuit_order), figsize=(20, 20))\n",
    "plt.subplots_adjust(hspace=0.5, wspace=0.5)\n",
    "\n",
    "for c1, row in zip(circuit_order, axs):\n",
    "    for c2, ax in zip(circuit_order, row):\n",
    "        if c1 <= c2:\n",
    "            ax.axis(\"off\")\n",
    "            continue\n",
    "            \n",
    "        xs = results_df[results_df.circuit == c1].groupby([\"model_name\", \"corpus\", \"seed\"]).correct.agg({c1: \"mean\"})\n",
    "        ys = results_df[results_df.circuit == c2].groupby([\"model_name\", \"corpus\", \"seed\"]).correct.agg({c2: \"mean\"})\n",
    "        df = pd.concat([xs, ys], axis=1)\n",
    "        ax.set_title(\"%s /\\n %s\" % (c1, c2))\n",
    "        sns.regplot(data=df, x=c1, y=c2, ax=ax)\n",
    "        \n",
    "plt.suptitle(\"Circuit--circuit correlations\")"
   ]
  },
  {
   "cell_type": "markdown",
   "metadata": {},
   "source": [
    "### Stability to modification"
   ]
  },
  {
   "cell_type": "code",
   "execution_count": null,
   "metadata": {},
   "outputs": [],
   "source": [
    "plt.subplots(figsize=(15, 10))\n",
    "sns.barplot(data=results_df_mod, x=\"model_name\", y=\"correct\", hue=\"has_modifier\")\n",
    "plt.title(\"Stability to modification\")"
   ]
  },
  {
   "cell_type": "code",
   "execution_count": null,
   "metadata": {},
   "outputs": [],
   "source": [
    "plt.subplots(figsize=(15, 10))\n",
    "sns.barplot(data=results_df_mod, x=\"corpus\", y=\"correct\", hue=\"has_modifier\")\n",
    "plt.title(\"Stability to modification\")"
   ]
  },
  {
   "cell_type": "code",
   "execution_count": null,
   "metadata": {},
   "outputs": [],
   "source": [
    "g = sns.FacetGrid(data=results_df_mod, col=\"model_name\", height=7)\n",
    "g.map(sns.barplot, \"corpus\", \"correct\", \"has_modifier\")"
   ]
  },
  {
   "cell_type": "code",
   "execution_count": null,
   "metadata": {},
   "outputs": [],
   "source": [
    "avg_mod_results = results_df_mod.groupby([\"model_name\", \"test_suite_base\", \"has_modifier\"]).correct.agg({\"correct\": \"mean\"}).sort_index()\n",
    "avg_mod_diffs = avg_mod_results.xs(True, level=\"has_modifier\") - avg_mod_results.xs(False, level=\"has_modifier\")\n",
    "\n",
    "plt.subplots(figsize=(15, 10))\n",
    "sns.boxplot(data=avg_mod_diffs.reset_index(), x=\"model_name\", y=\"correct\")\n",
    "plt.title(\"Change in accuracy due to modification\")"
   ]
  }
 ],
 "metadata": {
  "kernelspec": {
   "display_name": "Python 3",
   "language": "python",
   "name": "python3"
  },
  "language_info": {
   "codemirror_mode": {
    "name": "ipython",
    "version": 3
   },
   "file_extension": ".py",
   "mimetype": "text/x-python",
   "name": "python",
   "nbconvert_exporter": "python",
   "pygments_lexer": "ipython3",
   "version": "3.6.8"
  }
 },
 "nbformat": 4,
 "nbformat_minor": 2
}
