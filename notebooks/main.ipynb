{
 "cells": [
  {
   "cell_type": "code",
   "execution_count": null,
   "metadata": {},
   "outputs": [],
   "source": [
    "import json\n",
    "import operator\n",
    "import os\n",
    "from pathlib import Path\n",
    "from pprint import pprint\n",
    "import re\n",
    "\n",
    "import matplotlib.pyplot as plt\n",
    "import numpy as np\n",
    "import pandas as pd\n",
    "import seaborn as sns\n",
    "%matplotlib inline"
   ]
  },
  {
   "cell_type": "markdown",
   "metadata": {},
   "source": [
    "## Load data and preprocess"
   ]
  },
  {
   "cell_type": "markdown",
   "metadata": {},
   "source": [
    "### Metadata"
   ]
  },
  {
   "cell_type": "code",
   "execution_count": null,
   "metadata": {},
   "outputs": [],
   "source": [
    "# Map from test suite tag to high-level circuit.\n",
    "circuits = {\n",
    "    \"Licensing\": [\"npi\", \"reflexive\"],\n",
    "    \"Long-Distance Dependencies\": [\"fgd\", \"position\", \"embed\", \"number\", \"comparison\"],\n",
    "    \"Garden-Path Effects\": [\"gardenpath\", \"npz\"],\n",
    "    \"Gross Syntactic State\": [\"subordination\"],\n",
    "    \"Center Embedding\": [\"center\"],\n",
    "    \"Transformations\": [\"passive\", \"cleft\"],\n",
    "}\n",
    "\n",
    "tag_to_circuit = {tag: circuit\n",
    "                  for circuit, tags in circuits.items()\n",
    "                  for tag in tags}"
   ]
  },
  {
   "cell_type": "code",
   "execution_count": null,
   "metadata": {},
   "outputs": [],
   "source": [
    "# Exclusions\n",
    "exclude_suite_re = re.compile(r\"^(mvrr|npz|gardenpath).*\")"
   ]
  },
  {
   "cell_type": "markdown",
   "metadata": {},
   "source": [
    "### Load"
   ]
  },
  {
   "cell_type": "code",
   "execution_count": null,
   "metadata": {},
   "outputs": [],
   "source": [
    "os.chdir(\"..\")\n",
    "ppl_data_path = Path(\"data/raw/perplexity.csv\")\n",
    "test_suite_results_path = Path(\"data/raw/test_suite_results.csv\")"
   ]
  },
  {
   "cell_type": "code",
   "execution_count": null,
   "metadata": {},
   "outputs": [],
   "source": [
    "perplexity_df = pd.read_csv(ppl_data_path, index_col=[\"model\", \"corpus\", \"seed\"])\n",
    "perplexity_df.index.set_names(\"model_name\", level=0, inplace=True)\n",
    "results_df = pd.read_csv(test_suite_results_path)\n",
    "\n",
    "# Split model_id into constituent parts\n",
    "model_ids = results_df.model.str.split(\"_\", expand=True).rename(columns={0: \"model_name\", 1: \"corpus\", 2: \"seed\"})\n",
    "results_df = results_df.join(model_ids).drop(columns=[\"model\"])\n",
    "results_df[\"seed\"] = results_df.seed.astype(int)\n",
    "\n",
    "# Exclude test suites\n",
    "exclude_filter = results_df.suite.str.contains(exclude_suite_re)\n",
    "print(\"Dropping %i results / %i suites due to exclusions.\"\n",
    "      % (exclude_filter.sum(), len(results_df[exclude_filter].suite.unique())))\n",
    "results_df = results_df[~exclude_filter]\n",
    "\n",
    "# Add tags\n",
    "results_df[\"tag\"] = results_df.suite.transform(lambda s: re.split(r\"[-_0-9]\", s)[0])\n",
    "results_df[\"circuit\"] = results_df.tag.map(tag_to_circuit)\n",
    "tags_missing_circuit = set(results_df.tag.unique()) - set(tag_to_circuit.keys())\n",
    "if tags_missing_circuit:\n",
    "    print(\"Tags missing circuit: \", \", \".join(tags_missing_circuit))"
   ]
  },
  {
   "cell_type": "code",
   "execution_count": null,
   "metadata": {},
   "outputs": [],
   "source": [
    "results_df.head()"
   ]
  },
  {
   "cell_type": "markdown",
   "metadata": {},
   "source": [
    "### Checks"
   ]
  },
  {
   "cell_type": "code",
   "execution_count": null,
   "metadata": {},
   "outputs": [],
   "source": [
    "# Each model--corpus--seed should have perplexity data.\n",
    "ids_from_results = results_df.set_index([\"model_name\", \"corpus\", \"seed\"]).sort_index().index\n",
    "ids_from_ppl = perplexity_df.sort_index().index\n",
    "diff = set(ids_from_results) - set(ids_from_ppl)\n",
    "if diff:\n",
    "    print(\"Missing perplexity results for:\")\n",
    "    pprint(diff)\n",
    "    raise ValueError(\"Each model--corpus--seed must have perplexity data.\")"
   ]
  },
  {
   "cell_type": "markdown",
   "metadata": {},
   "source": [
    "## Main analyses\n",
    "\n",
    "1. barplot ranking model accuracies\n",
    "2. scatter plot with ppl on x-axis and SG score on y-axis (for a given dataset size -- or maybe all of them together?)\n",
    "3. variance in ppl vs variance in SG score for a single model across seeds and/or sizes\n",
    "\n",
    "Test suite analyses\n",
    "\n",
    "1. within-tag/circuit ppl-SG correlations\n",
    "2. circuit-circuit coordination heatmap\n",
    "3. robustness to stability modification}"
   ]
  },
  {
   "cell_type": "markdown",
   "metadata": {},
   "source": [
    "### Global settings\n",
    "\n",
    "e.g. to maintain consistent hues across model graphs, etc."
   ]
  },
  {
   "cell_type": "code",
   "execution_count": null,
   "metadata": {},
   "outputs": [],
   "source": [
    "model_order = sorted(set(results_df.model_name))\n",
    "corpus_order = sorted(set(results_df.corpus))\n",
    "circuit_order = sorted([c for c in results_df.circuit.dropna().unique()])"
   ]
  },
  {
   "cell_type": "markdown",
   "metadata": {},
   "source": [
    "### Data prep"
   ]
  },
  {
   "cell_type": "code",
   "execution_count": null,
   "metadata": {},
   "outputs": [],
   "source": [
    "# Join PPL and accuracy data.\n",
    "joined_data = results_df.groupby([\"model_name\", \"corpus\", \"seed\"]).correct.agg(\"mean\")\n",
    "joined_data = pd.DataFrame(joined_data).join(perplexity_df).reset_index()\n",
    "joined_data.head()"
   ]
  },
  {
   "cell_type": "code",
   "execution_count": null,
   "metadata": {},
   "outputs": [],
   "source": [
    "# Join PPL and accuracy data, splitting on circuit.\n",
    "joined_data_circuits = results_df.groupby([\"model_name\", \"corpus\", \"seed\", \"circuit\"]).correct.agg(\"mean\")\n",
    "joined_data_circuits = pd.DataFrame(joined_data_circuits).reset_index().set_index([\"model_name\", \"corpus\", \"seed\"]).join(perplexity_df).reset_index()\n",
    "joined_data_circuits.head()"
   ]
  },
  {
   "cell_type": "code",
   "execution_count": null,
   "metadata": {},
   "outputs": [],
   "source": [
    "# Analyze stability to modification.\n",
    "def has_modifier(ts):\n",
    "    if \"no-modifier\" in ts:\n",
    "        return False\n",
    "    elif \"modifier\" in ts:\n",
    "        return True\n",
    "    else:\n",
    "        return None\n",
    "results_df[\"has_modifier\"] = results_df.suite.transform(has_modifier)\n",
    "\n",
    "# Store subset of test suites which have definite modifier/no-modifier marking\n",
    "results_df_mod = results_df[~(results_df.has_modifier.isna())]\n",
    "# Get base test suite (without modifier/no-modifier marking)\n",
    "results_df_mod[\"test_suite_base\"] = results_df_mod.suite.transform(lambda ts: ts.strip(\"_no-modifier\").strip(\"_modifier\"))\n",
    "results_df_mod.head()"
   ]
  },
  {
   "cell_type": "markdown",
   "metadata": {},
   "source": [
    "### Accuracy across models"
   ]
  },
  {
   "cell_type": "code",
   "execution_count": null,
   "metadata": {},
   "outputs": [],
   "source": [
    "sns.barplot(data=results_df.reset_index(), x=\"model_name\", y=\"correct\")\n",
    "\n",
    "plt.xlabel(\"Model\")\n",
    "plt.ylabel(\"Accuracy\")"
   ]
  },
  {
   "cell_type": "markdown",
   "metadata": {},
   "source": [
    "### Accuracy vs perplexity"
   ]
  },
  {
   "cell_type": "code",
   "execution_count": null,
   "metadata": {},
   "outputs": [],
   "source": [
    "corpus_to_size = {\n",
    "    \"ptb\": 2,\n",
    "    \"ptb-nanc-med\": 4,\n",
    "    \"ptb-nanc-big\": 6,\n",
    "}\n",
    "\n",
    "model_colors = dict(zip(model_order,\n",
    "                        ['#1f77b4', '#ff7f0e', '#2ca02c', '#d62728', '#9467bd', '#8c564b', '#e377c2', '#7f7f7f', '#bcbd22', '#17becf']))"
   ]
  },
  {
   "cell_type": "code",
   "execution_count": null,
   "metadata": {},
   "outputs": [],
   "source": [
    "f, ax = plt.subplots()\n",
    "# sns.regplot(data=graph_data, x=\"test_ppl\", y=\"correct\",\n",
    "#             scatter_kws={\"s\": graph_data[\"corpus\"].map(corpus_to_size),\n",
    "#                          \"facecolors\": graph_data.model.map(model_colors)})\n",
    "sns.scatterplot(data=joined_data, x=\"test_ppl\", y=\"correct\",\n",
    "                hue=\"model_name\", size=\"corpus\",\n",
    "                hue_order=model_order, size_order=corpus_order)"
   ]
  },
  {
   "cell_type": "code",
   "execution_count": null,
   "metadata": {},
   "outputs": [],
   "source": [
    "g = sns.FacetGrid(data=joined_data_circuits, col=\"circuit\")\n",
    "g.map(sns.scatterplot, \"test_ppl\", \"correct\", \"model_name\",\n",
    "      hue_order=model_order)"
   ]
  },
  {
   "cell_type": "markdown",
   "metadata": {},
   "source": [
    "### Variance in accuracy vs variance in perplexity"
   ]
  },
  {
   "cell_type": "code",
   "execution_count": null,
   "metadata": {},
   "outputs": [],
   "source": [
    "catplot_ticks = [\"correct\", \"test_ppl\"]\n",
    "catplot_data = joined_data.copy()\n",
    "catplot_data[\"correct\"] *= 100\n",
    "catplot_data = catplot_data.melt(id_vars=set(catplot_data.columns) - set(catplot_ticks))\n",
    "\n",
    "g = sns.catplot(data=catplot_data,\n",
    "                x=\"variable\", y=\"value\", hue=\"model_name\")"
   ]
  },
  {
   "cell_type": "markdown",
   "metadata": {},
   "source": [
    "### Circuit–circuit correlations"
   ]
  },
  {
   "cell_type": "code",
   "execution_count": null,
   "metadata": {},
   "outputs": [],
   "source": [
    "f, axs = plt.subplots(len(circuit_order), len(circuit_order), figsize=(20, 20))\n",
    "plt.subplots_adjust(hspace=0.5, wspace=0.5)\n",
    "\n",
    "for c1, row in zip(circuit_order, axs):\n",
    "    for c2, ax in zip(circuit_order, row):\n",
    "        if c1 <= c2:\n",
    "            ax.axis(\"off\")\n",
    "            continue\n",
    "            \n",
    "        xs = results_df[results_df.circuit == c1].groupby([\"model_name\", \"corpus\", \"seed\"]).correct.agg({c1: \"mean\"})\n",
    "        ys = results_df[results_df.circuit == c2].groupby([\"model_name\", \"corpus\", \"seed\"]).correct.agg({c2: \"mean\"})\n",
    "        df = pd.concat([xs, ys], axis=1)\n",
    "        ax.set_title(\"%s /\\n %s\" % (c1, c2))\n",
    "        sns.regplot(data=df, x=c1, y=c2, ax=ax)\n",
    "        \n",
    "plt.suptitle(\"Circuit--circuit correlations\")"
   ]
  },
  {
   "cell_type": "markdown",
   "metadata": {},
   "source": [
    "### Stability to modification"
   ]
  },
  {
   "cell_type": "code",
   "execution_count": null,
   "metadata": {},
   "outputs": [],
   "source": [
    "plt.subplots(figsize=(15, 10))\n",
    "sns.barplot(data=results_df_mod, x=\"model_name\", y=\"correct\", hue=\"has_modifier\")\n",
    "plt.title(\"Stability to modification\")"
   ]
  },
  {
   "cell_type": "code",
   "execution_count": null,
   "metadata": {},
   "outputs": [],
   "source": [
    "avg_mod_results = results_df_mod.groupby([\"model_name\", \"test_suite_base\", \"has_modifier\"]).correct.agg({\"acc\": \"mean\"}).sort_index()\n",
    "avg_mod_diffs = avg_mod_results.xs(True, level=\"has_modifier\") - avg_mod_results.xs(False, level=\"has_modifier\")\n",
    "\n",
    "plt.subplots(figsize=(15, 10))\n",
    "sns.boxplot(data=avg_mod_diffs.reset_index(), x=\"model_name\", y=\"correct\")\n",
    "plt.title(\"Change in accuracy due to modification\")"
   ]
  }
 ],
 "metadata": {
  "kernelspec": {
   "display_name": "Python 3",
   "language": "python",
   "name": "python3"
  },
  "language_info": {
   "codemirror_mode": {
    "name": "ipython",
    "version": 3
   },
   "file_extension": ".py",
   "mimetype": "text/x-python",
   "name": "python",
   "nbconvert_exporter": "python",
   "pygments_lexer": "ipython3",
   "version": "3.6.8"
  }
 },
 "nbformat": 4,
 "nbformat_minor": 2
}
